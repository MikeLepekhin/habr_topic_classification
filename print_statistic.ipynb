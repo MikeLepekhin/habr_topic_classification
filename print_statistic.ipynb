{
 "cells": [
  {
   "cell_type": "code",
   "execution_count": 33,
   "id": "revised-aspect",
   "metadata": {},
   "outputs": [],
   "source": [
    "from os import listdir\n",
    "import numpy as np\n",
    "import pickle"
   ]
  },
  {
   "cell_type": "code",
   "execution_count": 1,
   "id": "silver-debut",
   "metadata": {},
   "outputs": [],
   "source": [
    "!mkdir clean_files\n",
    "!mv files/1* clean_files/\n",
    "!mv files/2* clean_files/\n",
    "!mv files/3* clean_files/"
   ]
  },
  {
   "cell_type": "code",
   "execution_count": 8,
   "id": "deadly-brazil",
   "metadata": {},
   "outputs": [
    {
     "data": {
      "text/plain": [
       "2415"
      ]
     },
     "execution_count": 8,
     "metadata": {},
     "output_type": "execute_result"
    }
   ],
   "source": [
    "len(listdir('clean_files'))"
   ]
  },
  {
   "cell_type": "code",
   "execution_count": 29,
   "id": "regulation-butter",
   "metadata": {},
   "outputs": [],
   "source": [
    "def parse_hubs(raw_hubs):\n",
    "    hub_list = [hub_str.strip().lower() for hub_str in raw_hubs.strip().replace(', ', '').split('\\n')]\n",
    "    return [hub for hub in hub_list if hub]\n",
    "\n",
    "def get_like_value(like_str):\n",
    "    if len(like_str) == 1:\n",
    "        return 1 if like_str == '+' else -1\n",
    "    if like_str[0] != '+':\n",
    "        return -int(like_str[1:])\n",
    "    return int(like_str[1:])"
   ]
  },
  {
   "cell_type": "code",
   "execution_count": 30,
   "id": "opened-title",
   "metadata": {},
   "outputs": [],
   "source": [
    "from collections import defaultdict\n",
    "\n",
    "count_by_hub = defaultdict(int)\n",
    "likes = []"
   ]
  },
  {
   "cell_type": "code",
   "execution_count": 31,
   "id": "theoretical-class",
   "metadata": {},
   "outputs": [],
   "source": [
    "count_good = 0\n",
    "\n",
    "for filename in listdir('clean_files'):\n",
    "    one_file = pickle.load(open(f'clean_files/{filename}', 'rb'))\n",
    "    for hub in parse_hubs(one_file['hubs']):\n",
    "        count_by_hub[hub] += 1\n",
    "    likes.append(get_like_value(one_file['likes']))"
   ]
  },
  {
   "cell_type": "code",
   "execution_count": 35,
   "id": "wrapped-chicken",
   "metadata": {},
   "outputs": [
    {
     "name": "stdout",
     "output_type": "stream",
     "text": [
      "17.033954451345757\n",
      "10.0\n"
     ]
    }
   ],
   "source": [
    "print(np.mean(likes))\n",
    "print(np.median(likes))"
   ]
  },
  {
   "cell_type": "code",
   "execution_count": 40,
   "id": "blond-stroke",
   "metadata": {},
   "outputs": [
    {
     "data": {
      "text/plain": [
       "[(235, 'программирование'),\n",
       " (210, 'информационная безопасность'),\n",
       " (191, 'разработка веб-сайтов'),\n",
       " (118, 'javascript'),\n",
       " (97, 'научно-популярное'),\n",
       " (93, 'машинное обучение'),\n",
       " (89, 'open source'),\n",
       " (86, 'python'),\n",
       " (84, 'карьера в it-индустрии'),\n",
       " (82, 'разработка мобильных приложений'),\n",
       " (81, 'разработка игр'),\n",
       " (75, 'it-компании'),\n",
       " (72, 'управление медиа'),\n",
       " (70, 'алгоритмы'),\n",
       " (69, 'разработка под android'),\n",
       " (67, 'it-инфраструктура'),\n",
       " (66, 'системное администрирование'),\n",
       " (64, 'управление проектами'),\n",
       " (64, 'java'),\n",
       " (64, '.net')]"
      ]
     },
     "execution_count": 40,
     "metadata": {},
     "output_type": "execute_result"
    }
   ],
   "source": [
    "sorted([(count, hub) for hub, count in count_by_hub.items()], reverse=True)[:20]"
   ]
  },
  {
   "cell_type": "code",
   "execution_count": null,
   "id": "desperate-nigeria",
   "metadata": {},
   "outputs": [],
   "source": []
  }
 ],
 "metadata": {
  "kernelspec": {
   "display_name": "Python 3",
   "language": "python",
   "name": "python3"
  },
  "language_info": {
   "codemirror_mode": {
    "name": "ipython",
    "version": 3
   },
   "file_extension": ".py",
   "mimetype": "text/x-python",
   "name": "python",
   "nbconvert_exporter": "python",
   "pygments_lexer": "ipython3",
   "version": "3.7.6"
  }
 },
 "nbformat": 4,
 "nbformat_minor": 5
}
