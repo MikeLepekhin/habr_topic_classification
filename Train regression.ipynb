{
 "cells": [
  {
   "cell_type": "code",
   "execution_count": 1,
   "metadata": {},
   "outputs": [
    {
     "name": "stderr",
     "output_type": "stream",
     "text": [
      "[nltk_data] Downloading package stopwords to /home/alloky-\n",
      "[nltk_data]     wsl/nltk_data...\n",
      "[nltk_data]   Package stopwords is already up-to-date!\n"
     ]
    }
   ],
   "source": [
    "import nltk\n",
    "nltk.download('stopwords')\n",
    "\n",
    "import os\n",
    "import pickle\n",
    "\n",
    "from nltk import sent_tokenize, word_tokenize, regexp_tokenize\n",
    "from nltk.corpus import stopwords\n",
    "from tqdm.notebook import tqdm\n",
    "\n",
    "from sklearn.model_selection import train_test_split\n",
    "from sklearn.feature_extraction.text import TfidfVectorizer\n",
    "from sklearn.linear_model import LinearRegression\n",
    "from sklearn.metrics import  mean_squared_error, mean_absolute_error\n",
    "\n",
    "import numpy as np"
   ]
  },
  {
   "cell_type": "code",
   "execution_count": 2,
   "metadata": {},
   "outputs": [
    {
     "data": {
      "application/vnd.jupyter.widget-view+json": {
       "model_id": "8b07fbe3741943babfd9c7fefdbf1237",
       "version_major": 2,
       "version_minor": 0
      },
      "text/plain": [
       "HBox(children=(HTML(value=''), FloatProgress(value=0.0, max=8109.0), HTML(value='')))"
      ]
     },
     "metadata": {},
     "output_type": "display_data"
    },
    {
     "name": "stdout",
     "output_type": "stream",
     "text": [
      "\n"
     ]
    }
   ],
   "source": [
    "texts = []\n",
    "likes = []\n",
    "for filename in tqdm(os.listdir('clean_files')):\n",
    "    one_file = pickle.load(open(f'clean_files/{filename}', 'rb'))\n",
    "    text = one_file['text']\n",
    "    like = (-1 * int(one_file['likes'][1:])) if one_file['likes'][0] == '–' else int(one_file['likes'])\n",
    "    texts.append(text)\n",
    "    likes.append(like)"
   ]
  },
  {
   "cell_type": "code",
   "execution_count": 3,
   "metadata": {},
   "outputs": [],
   "source": [
    "X_train, X_test, y_train, y_test = train_test_split(texts, likes, test_size=0.33, random_state=42)"
   ]
  },
  {
   "cell_type": "code",
   "execution_count": 4,
   "metadata": {},
   "outputs": [],
   "source": [
    "vectorizer = TfidfVectorizer(\n",
    "    max_features=2048, lowercase=True, analyzer='word',\n",
    "    stop_words=stopwords.words('russian'), ngram_range=(1,3),dtype=np.float32\n",
    ")\n",
    "train_vects = vectorizer.fit_transform(X_train)\n",
    "test_vects = vectorizer.transform(X_test)"
   ]
  },
  {
   "cell_type": "code",
   "execution_count": 5,
   "metadata": {},
   "outputs": [],
   "source": [
    "regressor = LinearRegression().fit(train_vects, y_train)"
   ]
  },
  {
   "cell_type": "code",
   "execution_count": 6,
   "metadata": {},
   "outputs": [],
   "source": [
    "def evaluate(predictor, X_train, X_test, y_train, y_test):\n",
    "    predicted_train = predictor.predict(X_train)\n",
    "    predicted_test = predictor.predict(X_test)\n",
    "    \n",
    "    \n",
    "    print('MSE train', mean_squared_error(predicted_train, y_train))\n",
    "    print('MAE train', mean_absolute_error(predicted_train, y_train))\n",
    "    print()\n",
    "    print('MSE test', mean_squared_error(predicted_test, y_test))\n",
    "    print('MAE train', mean_absolute_error(predicted_test, y_test))\n",
    "    \n",
    "#     print()\n",
    "#     for i in range(10):\n",
    "#         print(f\"Example {i} : real = {y_test[i]} , predicted = {predicted_test[i]}\")\n",
    "#         print(X_test[i])"
   ]
  },
  {
   "cell_type": "code",
   "execution_count": 7,
   "metadata": {},
   "outputs": [
    {
     "name": "stdout",
     "output_type": "stream",
     "text": [
      "MSE train 235.46784600835025\n",
      "MAE train 10.819642730285754\n",
      "\n",
      "MSE test 629.9881548914256\n",
      "MAE train 17.332090533725896\n"
     ]
    }
   ],
   "source": [
    "evaluate(regressor, train_vects, test_vects, y_train, y_test)"
   ]
  },
  {
   "cell_type": "code",
   "execution_count": null,
   "metadata": {},
   "outputs": [],
   "source": []
  }
 ],
 "metadata": {
  "kernelspec": {
   "display_name": "Python (cv-yandex)",
   "language": "python",
   "name": "cv_yandex"
  },
  "language_info": {
   "codemirror_mode": {
    "name": "ipython",
    "version": 3
   },
   "file_extension": ".py",
   "mimetype": "text/x-python",
   "name": "python",
   "nbconvert_exporter": "python",
   "pygments_lexer": "ipython3",
   "version": "3.8.5"
  }
 },
 "nbformat": 4,
 "nbformat_minor": 4
}
