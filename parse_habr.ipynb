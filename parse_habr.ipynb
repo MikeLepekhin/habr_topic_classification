{
 "cells": [
  {
   "cell_type": "code",
   "execution_count": 2,
   "id": "becoming-swift",
   "metadata": {},
   "outputs": [],
   "source": [
    "import numpy as np\n",
    "from multiprocessing import Pool"
   ]
  },
  {
   "cell_type": "code",
   "execution_count": 7,
   "id": "successful-brisbane",
   "metadata": {},
   "outputs": [
    {
     "data": {
      "text/plain": [
       "40789"
      ]
     },
     "execution_count": 7,
     "metadata": {},
     "output_type": "execute_result"
    }
   ],
   "source": [
    "#!rm -rf files\n",
    "#!mkdir files\n",
    "\n",
    "from os import listdir\n",
    "len(sorted([file for file in listdir('files')]))"
   ]
  },
  {
   "cell_type": "code",
   "execution_count": 4,
   "id": "quality-singing",
   "metadata": {},
   "outputs": [],
   "source": [
    "import pickle\n",
    "import requests\n",
    "from bs4 import BeautifulSoup\n",
    "\n",
    "def download_document(pid):\n",
    "    \"\"\" Download and process a Habr document and its comments \"\"\"\n",
    "    # выгрузка документа\n",
    "    r = requests.get('https://habrahabr.ru/post/' +str(pid) + '/')\n",
    "    # парсинг документа\n",
    "    soup = BeautifulSoup(r.text, 'html5lib') # instead of html.parser\n",
    "    doc = {}\n",
    "    doc['id'] = pid\n",
    "    if not soup.find(\"span\", {\"class\": \"post__title-text\"}):\n",
    "        # такое бывает, если статья не существовала или удалена\n",
    "        doc['status'] = 'title_not_found'\n",
    "    else:\n",
    "        doc['status'] = 'ok'\n",
    "        doc['title'] = soup.find(\"span\", {\"class\": \"post__title-text\"}).text\n",
    "        doc['text'] = soup.find(\"div\", {\"class\": \"post__text\"}).text\n",
    "        doc['time'] = soup.find(\"span\", {\"class\": \"post__time\"}).text\n",
    "        doc['hubs'] = soup.find(\"ul\", {\"class\": \"post__hubs\"}).text\n",
    "        doc['likes'] = soup.find(\"span\", {\"class\": \"voting-wjt__counter\"}).text\n",
    "    \n",
    "    if 'hubs' in doc:    \n",
    "        # сохранение результата в отдельный файл\n",
    "        fname = r'files/' + str(pid) + '.pkl'\n",
    "        with open(fname, 'wb') as f:\n",
    "            pickle.dump(doc, f)"
   ]
  },
  {
   "cell_type": "code",
   "execution_count": 4,
   "id": "dangerous-round",
   "metadata": {},
   "outputs": [],
   "source": [
    "with Pool(10) as p:\n",
    "    docs = p.map(download_document, np.arange(150000, 500000))"
   ]
  }
 ],
 "metadata": {
  "kernelspec": {
   "display_name": "Python 3",
   "language": "python",
   "name": "python3"
  },
  "language_info": {
   "codemirror_mode": {
    "name": "ipython",
    "version": 3
   },
   "file_extension": ".py",
   "mimetype": "text/x-python",
   "name": "python",
   "nbconvert_exporter": "python",
   "pygments_lexer": "ipython3",
   "version": "3.7.6"
  }
 },
 "nbformat": 4,
 "nbformat_minor": 5
}
