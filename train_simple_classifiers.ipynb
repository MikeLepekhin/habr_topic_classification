{
  "nbformat": 4,
  "nbformat_minor": 0,
  "metadata": {
    "kernelspec": {
      "display_name": "Python 3",
      "language": "python",
      "name": "python3"
    },
    "language_info": {
      "codemirror_mode": {
        "name": "ipython",
        "version": 3
      },
      "file_extension": ".py",
      "mimetype": "text/x-python",
      "name": "python",
      "nbconvert_exporter": "python",
      "pygments_lexer": "ipython3",
      "version": "3.7.6"
    },
    "colab": {
      "name": "train_simple_classifiers.ipynb",
      "provenance": [],
      "collapsed_sections": []
    }
  },
  "cells": [
    {
      "cell_type": "markdown",
      "metadata": {
        "id": "A5vwj3QSk-Dy"
      },
      "source": [
        "Идея взята у https://www.kaggle.com/sudhirnl7/logistic-regression-tfidf"
      ]
    },
    {
      "cell_type": "code",
      "metadata": {
        "colab": {
          "base_uri": "https://localhost:8080/"
        },
        "id": "UaLoJp-tk-D0",
        "outputId": "c64ed087-1059-4884-8b42-bb268e61e719"
      },
      "source": [
        "import nltk\n",
        "nltk.download('stopwords')\n",
        "import numpy as np\n",
        "import pandas as pd\n",
        "\n",
        "from scipy import sparse"
      ],
      "execution_count": 66,
      "outputs": [
        {
          "output_type": "stream",
          "text": [
            "[nltk_data] Downloading package stopwords to /root/nltk_data...\n",
            "[nltk_data]   Package stopwords is already up-to-date!\n"
          ],
          "name": "stdout"
        }
      ]
    },
    {
      "cell_type": "code",
      "metadata": {
        "colab": {
          "base_uri": "https://localhost:8080/",
          "height": 296
        },
        "id": "wSJ4y2W-k-D2",
        "outputId": "d3c6d1f2-2487-4d02-a7f1-b2883ef62a8a"
      },
      "source": [
        "raw_train = pd.read_csv('train_df.csv')\n",
        "raw_test = pd.read_csv('test_df.csv')\n",
        "raw_train.head()"
      ],
      "execution_count": 67,
      "outputs": [
        {
          "output_type": "execute_result",
          "data": {
            "text/html": [
              "<div>\n",
              "<style scoped>\n",
              "    .dataframe tbody tr th:only-of-type {\n",
              "        vertical-align: middle;\n",
              "    }\n",
              "\n",
              "    .dataframe tbody tr th {\n",
              "        vertical-align: top;\n",
              "    }\n",
              "\n",
              "    .dataframe thead th {\n",
              "        text-align: right;\n",
              "    }\n",
              "</style>\n",
              "<table border=\"1\" class=\"dataframe\">\n",
              "  <thead>\n",
              "    <tr style=\"text-align: right;\">\n",
              "      <th></th>\n",
              "      <th>Unnamed: 0</th>\n",
              "      <th>hubs</th>\n",
              "      <th>likes</th>\n",
              "      <th>text</th>\n",
              "      <th>title</th>\n",
              "    </tr>\n",
              "  </thead>\n",
              "  <tbody>\n",
              "    <tr>\n",
              "      <th>0</th>\n",
              "      <td>599</td>\n",
              "      <td>программирование</td>\n",
              "      <td>+6</td>\n",
              "      <td>\\nЗдравствуйте, по материалам опубликованного ...</td>\n",
              "      <td>Цикл статей «Изучаем VoIP-движок Mediastreamer...</td>\n",
              "    </tr>\n",
              "    <tr>\n",
              "      <th>1</th>\n",
              "      <td>752</td>\n",
              "      <td>гаджеты|будущее здесь</td>\n",
              "      <td>+3</td>\n",
              "      <td>В школе я «изучал» французский язык. Не зря я ...</td>\n",
              "      <td>Волшебный английский</td>\n",
              "    </tr>\n",
              "    <tr>\n",
              "      <th>2</th>\n",
              "      <td>2016</td>\n",
              "      <td>программирование</td>\n",
              "      <td>+23</td>\n",
              "      <td>Введение\\nВ последние несколько лет голосовые ...</td>\n",
              "      <td>Технологии ASR и TTS для прикладного программи...</td>\n",
              "    </tr>\n",
              "    <tr>\n",
              "      <th>3</th>\n",
              "      <td>1001</td>\n",
              "      <td>научно-популярное</td>\n",
              "      <td>+5</td>\n",
              "      <td>\\n\\nУчёные из Института материаловедения, подр...</td>\n",
              "      <td>Учёные объявили о появлении замены дорогого ма...</td>\n",
              "    </tr>\n",
              "    <tr>\n",
              "      <th>4</th>\n",
              "      <td>2514</td>\n",
              "      <td>программирование</td>\n",
              "      <td>+23</td>\n",
              "      <td>Было ли вам когда-либо интересно написать свою...</td>\n",
              "      <td>Разработка шахматной программы</td>\n",
              "    </tr>\n",
              "  </tbody>\n",
              "</table>\n",
              "</div>"
            ],
            "text/plain": [
              "   Unnamed: 0  ...                                              title\n",
              "0         599  ...  Цикл статей «Изучаем VoIP-движок Mediastreamer...\n",
              "1         752  ...                               Волшебный английский\n",
              "2        2016  ...  Технологии ASR и TTS для прикладного программи...\n",
              "3        1001  ...  Учёные объявили о появлении замены дорогого ма...\n",
              "4        2514  ...                     Разработка шахматной программы\n",
              "\n",
              "[5 rows x 5 columns]"
            ]
          },
          "metadata": {
            "tags": []
          },
          "execution_count": 67
        }
      ]
    },
    {
      "cell_type": "code",
      "metadata": {
        "id": "uPyy02zkk-D3"
      },
      "source": [
        "import nltk\n",
        "\n",
        "from nltk import sent_tokenize, word_tokenize, regexp_tokenize\n",
        "from nltk.corpus import stopwords"
      ],
      "execution_count": 68,
      "outputs": []
    },
    {
      "cell_type": "code",
      "metadata": {
        "id": "SxGcdKT9Cu_j"
      },
      "source": [
        "id_to_label = ['научно-популярное', 'гаджеты', 'программирование', \n",
        "               'космонавтика', 'информационная безопасность', 'it-компании',\n",
        "               'компьютерное железо', 'разработка веб-сайтов', \n",
        "               'diy или сделай сам', 'будущее здесь']"
      ],
      "execution_count": 69,
      "outputs": []
    },
    {
      "cell_type": "code",
      "metadata": {
        "id": "eIk2IcG3k-D4"
      },
      "source": [
        "def make_label_matrix(label_list):\n",
        "    label_to_id = {label: label_id for label_id, label in enumerate(id_to_label)}\n",
        "    result_matr = np.zeros((len(label_list), len(id_to_label))).astype(int)\n",
        "    \n",
        "    for i in range(len(label_list)):\n",
        "        cur_labels = str(label_list[i]).split('|')\n",
        "        for label in cur_labels:\n",
        "            if str(label) == 'nan':\n",
        "                continue\n",
        "            result_matr[i][label_to_id[label]] = 1\n",
        "    return result_matr"
      ],
      "execution_count": 70,
      "outputs": []
    },
    {
      "cell_type": "code",
      "metadata": {
        "colab": {
          "base_uri": "https://localhost:8080/"
        },
        "id": "KUruH9Pvk-D5",
        "outputId": "1924bb0a-6826-4b97-f372-05f5fd21c339"
      },
      "source": [
        "train_clean_text = [text.replace('\\n', ' ') for text in raw_train.text.values]\n",
        "train_clean_label = make_label_matrix(raw_train.hubs.values)\n",
        "print(train_clean_label[:10])"
      ],
      "execution_count": 71,
      "outputs": [
        {
          "output_type": "stream",
          "text": [
            "[[0 0 1 0 0 0 0 0 0 0]\n",
            " [0 1 0 0 0 0 0 0 0 1]\n",
            " [0 0 1 0 0 0 0 0 0 0]\n",
            " [1 0 0 0 0 0 0 0 0 0]\n",
            " [0 0 1 0 0 0 0 0 0 0]\n",
            " [1 0 0 0 0 0 0 0 0 0]\n",
            " [0 0 0 0 1 0 0 0 0 0]\n",
            " [0 0 0 0 0 0 0 1 0 0]\n",
            " [1 0 0 0 0 0 0 0 0 0]\n",
            " [0 0 0 0 0 1 0 0 0 0]]\n"
          ],
          "name": "stdout"
        }
      ]
    },
    {
      "cell_type": "code",
      "metadata": {
        "colab": {
          "base_uri": "https://localhost:8080/"
        },
        "id": "v27UZwYbk-D5",
        "outputId": "722cabde-912a-4025-ace9-c9bf05cc168c"
      },
      "source": [
        "test_clean_text = [text.replace('\\n', ' ') for text in raw_test.text.values]\n",
        "test_clean_label = make_label_matrix(raw_test.hubs.values)\n",
        "print(test_clean_label[:10])"
      ],
      "execution_count": 72,
      "outputs": [
        {
          "output_type": "stream",
          "text": [
            "[[1 0 0 1 0 0 0 0 0 0]\n",
            " [0 1 0 0 0 0 1 0 0 0]\n",
            " [1 0 0 0 0 0 0 0 0 1]\n",
            " [1 0 0 0 0 0 0 0 0 0]\n",
            " [1 0 0 1 0 0 0 0 0 0]\n",
            " [1 0 0 1 0 0 0 0 0 0]\n",
            " [0 0 0 0 0 1 0 0 0 0]\n",
            " [0 0 0 0 0 0 0 1 0 0]\n",
            " [0 0 1 0 0 1 0 0 0 0]\n",
            " [1 0 0 0 0 0 0 0 0 1]]\n"
          ],
          "name": "stdout"
        }
      ]
    },
    {
      "cell_type": "code",
      "metadata": {
        "id": "JV_dk8YGk-D6"
      },
      "source": [
        "from sklearn.feature_extraction.text import CountVectorizer, TfidfVectorizer"
      ],
      "execution_count": 73,
      "outputs": []
    },
    {
      "cell_type": "code",
      "metadata": {
        "id": "OX_vBWlHk-D6"
      },
      "source": [
        "class BigVectorizer:\n",
        "    def __init__(self, max_word_features=2048, max_char_features=2048):\n",
        "        self.vect_word = TfidfVectorizer(\n",
        "            max_features=max_word_features, lowercase=True, analyzer='word',\n",
        "            stop_words=stopwords.words('russian'), ngram_range=(1,3),dtype=np.float32\n",
        "        )\n",
        "        self.vect_char = TfidfVectorizer(\n",
        "            max_features=max_char_features, lowercase=True, analyzer='char',\n",
        "            stop_words=stopwords.words('russian'), ngram_range=(3,6),dtype=np.float32\n",
        "        )\n",
        "\n",
        "    def fit_transform(self, X):\n",
        "        vect_word = self.vect_word.fit_transform(X)\n",
        "        vect_char = self.vect_char.fit_transform(X)\n",
        "        return sparse.hstack([vect_word, vect_char])\n",
        "       \n",
        "    def transform(self, X, n=None):\n",
        "        vect_word = self.vect_word.transform(X)\n",
        "        vect_char = self.vect_char.transform(X)\n",
        "\n",
        "        if n:\n",
        "            feature_array = np.array(vectorizer.vect_word.get_feature_names())\n",
        "            tfidf_sorting = np.argsort(vect_word.toarray()).flatten()[::-1]\n",
        "            top_n_words = feature_array[tfidf_sorting][:n]\n",
        "            for word in top_n_words:\n",
        "                print(word)\n",
        "\n",
        "        return sparse.hstack([vect_word, vect_char])"
      ],
      "execution_count": 74,
      "outputs": []
    },
    {
      "cell_type": "code",
      "metadata": {
        "id": "SH-RPRcnk-D7"
      },
      "source": [
        "vectorizer = BigVectorizer()\n",
        "train_vect = vectorizer.fit_transform(train_clean_text)"
      ],
      "execution_count": 75,
      "outputs": []
    },
    {
      "cell_type": "code",
      "metadata": {
        "colab": {
          "base_uri": "https://localhost:8080/"
        },
        "id": "YVCCjdFAk-D7",
        "outputId": "60cc1e4f-560e-4ef4-e4c9-be8400592856"
      },
      "source": [
        "test_vect = vectorizer.transform(test_clean_text, n=100)"
      ],
      "execution_count": 76,
      "outputs": [
        {
          "output_type": "stream",
          "text": [
            "nvidia\n",
            "grid\n",
            "android\n",
            "секунду\n",
            "the\n",
            "игры\n",
            "60\n",
            "глава\n",
            "amazon\n",
            "50\n",
            "игр\n",
            "bluetooth\n",
            "wi fi\n",
            "передавать\n",
            "wi\n",
            "сервиса\n",
            "благодаря\n",
            "показали\n",
            "fi\n",
            "большей\n",
            "usb\n",
            "состоянии\n",
            "поддержка\n",
            "долларов\n",
            "стоимость\n",
            "раза\n",
            "это\n",
            "видео\n",
            "15\n",
            "наушников\n",
            "лишь\n",
            "игра\n",
            "of the\n",
            "контент\n",
            "момент\n",
            "конференции\n",
            "датчик\n",
            "достаточно\n",
            "гб\n",
            "звук\n",
            "картинки\n",
            "продукты\n",
            "обеспечение\n",
            "подключить\n",
            "будут\n",
            "камера\n",
            "месяца\n",
            "называют\n",
            "150\n",
            "собственный\n",
            "поколения\n",
            "значений\n",
            "мощности\n",
            "года\n",
            "компьютера\n",
            "запускать\n",
            "отдельные\n",
            "степени\n",
            "метода\n",
            "выхода\n",
            "сотни\n",
            "вряд\n",
            "считают\n",
            "занимает\n",
            "смотреть\n",
            "apple\n",
            "будущее\n",
            "поэтому\n",
            "производительность\n",
            "работы\n",
            "такими\n",
            "первом\n",
            "подключения\n",
            "начало\n",
            "отдельно\n",
            "дополнительные\n",
            "нём\n",
            "доступны\n",
            "запустить\n",
            "порядка\n",
            "запуск\n",
            "поддерживает\n",
            "другого\n",
            "говорят\n",
            "смогут\n",
            "факт\n",
            "большие\n",
            "качество\n",
            "новую\n",
            "видеть\n",
            "дня\n",
            "первое\n",
            "управление\n",
            "число\n",
            "будущем\n",
            "другим\n",
            "далеко\n",
            "веб\n",
            "рамках\n",
            "интернет\n"
          ],
          "name": "stdout"
        }
      ]
    },
    {
      "cell_type": "code",
      "metadata": {
        "id": "zGSz83Njk-D8"
      },
      "source": [
        "import pickle\n",
        "\n",
        "pickle.dump(train_vect, open('train_vect.pcl', 'wb'))\n",
        "pickle.dump(test_vect, open('test_vect.pcl', 'wb'))"
      ],
      "execution_count": 77,
      "outputs": []
    },
    {
      "cell_type": "code",
      "metadata": {
        "id": "pT6lz6mqk-D8"
      },
      "source": [
        "from sklearn.linear_model import LogisticRegression\n",
        "from sklearn.metrics import accuracy_score, precision_score, recall_score, f1_score\n",
        "from sklearn.multiclass import OneVsRestClassifier"
      ],
      "execution_count": 78,
      "outputs": []
    },
    {
      "cell_type": "code",
      "metadata": {
        "id": "vuiIyYm_3Qe_"
      },
      "source": [
        "def print_metrics(predicted_labels, true_labels, main_label):\n",
        "    predicted_res = [predicted_labels[i][main_label] == 1 for i in range(len(predicted_labels))]\n",
        "    true_res = [true_labels[i][main_label] == 1 for i in range(len(true_labels))]\n",
        "    print('precision: ', precision_score(predicted_res, true_res))\n",
        "    print('recall: ', recall_score(predicted_res, true_res))\n",
        "    print('f1: ', f1_score(predicted_res, true_res))    "
      ],
      "execution_count": 79,
      "outputs": []
    },
    {
      "cell_type": "code",
      "metadata": {
        "id": "tW92PW1Mk-D8"
      },
      "source": [
        "def evaluate(predictor, X_train, X_test, y_train, y_test):\n",
        "    predicted_train = predictor.predict(X_train)\n",
        "    predicted_test = predictor.predict(X_test)\n",
        "    \n",
        "    label_to_id = {label: label_id for label_id, label in enumerate(id_to_label)}\n",
        "    print('Train:')\n",
        "    for label in label_to_id:\n",
        "        print(label)\n",
        "        print_metrics(predicted_train, y_train, label_to_id[label])\n",
        "        print('-------------------------------')\n",
        "    print('\\n-------------------------------\\n')\n",
        "    print('Test:')\n",
        "    for label in label_to_id:\n",
        "        print(label)\n",
        "        print_metrics(predicted_test, y_test, label_to_id[label])\n",
        "        print('-------------------------------')"
      ],
      "execution_count": 80,
      "outputs": []
    },
    {
      "cell_type": "code",
      "metadata": {
        "id": "oUrs4eaAk-D9"
      },
      "source": [
        "from sklearn.model_selection import GridSearchCV"
      ],
      "execution_count": 81,
      "outputs": []
    },
    {
      "cell_type": "code",
      "metadata": {
        "id": "nZ2Sz1aVk-D9"
      },
      "source": [
        "lr_estimator = OneVsRestClassifier(LogisticRegression(random_state=42, C=3, multi_class='ovr'))"
      ],
      "execution_count": 82,
      "outputs": []
    },
    {
      "cell_type": "code",
      "metadata": {
        "colab": {
          "base_uri": "https://localhost:8080/"
        },
        "id": "W8txVJPrk-D9",
        "outputId": "a9b3324d-88a2-4cd1-e106-ee6953456461"
      },
      "source": [
        "lr_estimator.fit(train_vect, train_clean_label)"
      ],
      "execution_count": 83,
      "outputs": [
        {
          "output_type": "execute_result",
          "data": {
            "text/plain": [
              "OneVsRestClassifier(estimator=LogisticRegression(C=3, class_weight=None,\n",
              "                                                 dual=False, fit_intercept=True,\n",
              "                                                 intercept_scaling=1,\n",
              "                                                 l1_ratio=None, max_iter=100,\n",
              "                                                 multi_class='ovr', n_jobs=None,\n",
              "                                                 penalty='l2', random_state=42,\n",
              "                                                 solver='lbfgs', tol=0.0001,\n",
              "                                                 verbose=0, warm_start=False),\n",
              "                    n_jobs=None)"
            ]
          },
          "metadata": {
            "tags": []
          },
          "execution_count": 83
        }
      ]
    },
    {
      "cell_type": "code",
      "metadata": {
        "colab": {
          "base_uri": "https://localhost:8080/"
        },
        "id": "93PmdbPXk-D-",
        "outputId": "72af5fbe-af6f-4d49-9eed-f48c37dd723c"
      },
      "source": [
        "evaluate(lr_estimator, train_vect, test_vect, train_clean_label, test_clean_label)"
      ],
      "execution_count": 84,
      "outputs": [
        {
          "output_type": "stream",
          "text": [
            "Train:\n",
            "научно-популярное\n",
            "precision:  0.8634259259259259\n",
            "recall:  0.9290161892901619\n",
            "f1:  0.8950209958008398\n",
            "-------------------------------\n",
            "гаджеты\n",
            "precision:  0.7927927927927928\n",
            "recall:  0.9523809523809523\n",
            "f1:  0.8652900688298917\n",
            "-------------------------------\n",
            "программирование\n",
            "precision:  0.7607223476297968\n",
            "recall:  0.9232876712328767\n",
            "f1:  0.8341584158415842\n",
            "-------------------------------\n",
            "космонавтика\n",
            "precision:  0.9025\n",
            "recall:  0.9601063829787234\n",
            "f1:  0.9304123711340206\n",
            "-------------------------------\n",
            "информационная безопасность\n",
            "precision:  0.7543352601156069\n",
            "recall:  0.9560439560439561\n",
            "f1:  0.8432956381260097\n",
            "-------------------------------\n",
            "it-компании\n",
            "precision:  0.6571428571428571\n",
            "recall:  0.9409090909090909\n",
            "f1:  0.7738317757009348\n",
            "-------------------------------\n",
            "компьютерное железо\n",
            "precision:  0.5913621262458472\n",
            "recall:  0.9726775956284153\n",
            "f1:  0.7355371900826447\n",
            "-------------------------------\n",
            "разработка веб-сайтов\n",
            "precision:  0.6401384083044983\n",
            "recall:  0.925\n",
            "f1:  0.7566462167689162\n",
            "-------------------------------\n",
            "diy или сделай сам\n",
            "precision:  0.6733333333333333\n",
            "recall:  0.9619047619047619\n",
            "f1:  0.792156862745098\n",
            "-------------------------------\n",
            "будущее здесь\n",
            "precision:  0.4944649446494465\n",
            "recall:  0.9571428571428572\n",
            "f1:  0.6520681265206812\n",
            "-------------------------------\n",
            "\n",
            "-------------------------------\n",
            "\n",
            "Test:\n",
            "научно-популярное\n",
            "precision:  0.8466042154566745\n",
            "recall:  0.9210191082802548\n",
            "f1:  0.8822452715070165\n",
            "-------------------------------\n",
            "гаджеты\n",
            "precision:  0.7621621621621621\n",
            "recall:  0.9317180616740088\n",
            "f1:  0.8384539147670961\n",
            "-------------------------------\n",
            "программирование\n",
            "precision:  0.7388235294117647\n",
            "recall:  0.8920454545454546\n",
            "f1:  0.8082368082368082\n",
            "-------------------------------\n",
            "космонавтика\n",
            "precision:  0.8955223880597015\n",
            "recall:  0.9651474530831099\n",
            "f1:  0.9290322580645161\n",
            "-------------------------------\n",
            "информационная безопасность\n",
            "precision:  0.7304347826086957\n",
            "recall:  0.9402985074626866\n",
            "f1:  0.8221859706362153\n",
            "-------------------------------\n",
            "it-компании\n",
            "precision:  0.6222222222222222\n",
            "recall:  0.9333333333333333\n",
            "f1:  0.7466666666666667\n",
            "-------------------------------\n",
            "компьютерное железо\n",
            "precision:  0.5562700964630225\n",
            "recall:  0.9611111111111111\n",
            "f1:  0.7046843177189409\n",
            "-------------------------------\n",
            "разработка веб-сайтов\n",
            "precision:  0.621160409556314\n",
            "recall:  0.914572864321608\n",
            "f1:  0.7398373983739838\n",
            "-------------------------------\n",
            "diy или сделай сам\n",
            "precision:  0.6461038961038961\n",
            "recall:  0.9476190476190476\n",
            "f1:  0.7683397683397682\n",
            "-------------------------------\n",
            "будущее здесь\n",
            "precision:  0.46545454545454545\n",
            "recall:  0.9411764705882353\n",
            "f1:  0.6228710462287104\n",
            "-------------------------------\n"
          ],
          "name": "stdout"
        }
      ]
    },
    {
      "cell_type": "code",
      "metadata": {
        "id": "zqMcuxPQZWnK"
      },
      "source": [
        "from sklearn.svm import SVC\n",
        "\n",
        "svm_estimator = OneVsRestClassifier(SVC())\n",
        "svm_estimator.fit(train_vect, train_clean_label)\n",
        "evaluate(svm_estimator, train_vect, test_vect, train_clean_label, test_clean_label)"
      ],
      "execution_count": null,
      "outputs": []
    },
    {
      "cell_type": "code",
      "metadata": {
        "id": "U_Hu0xRnZZvp"
      },
      "source": [
        "import pickle\n",
        "from os.path import join as pathjoin\n",
        "from os import mkdir\n",
        "\n",
        "def save_model(predictor, vectorizer, model_dir):\n",
        "    mkdir(model_dir)\n",
        "    with open(pathjoin(model_dir, 'predictor'), 'wb') as fout:\n",
        "        fout.write(pickle.dumps(predictor))\n",
        "    with open(pathjoin(model_dir, 'vectorizer'), 'wb') as fout:\n",
        "        fout.write(pickle.dumps(vectorizer))\n",
        "        \n",
        "def load_model(model_dir):\n",
        "    return pickle.loads(open(pathjoin(model_dir, 'predictor'), 'rb').read()),\\\n",
        "           pickle.loads(open(pathjoin(model_dir, 'vectorizer'), 'rb').read())"
      ],
      "execution_count": null,
      "outputs": []
    },
    {
      "cell_type": "code",
      "metadata": {
        "id": "beEAshYxZb2T"
      },
      "source": [
        "save_model(lr_estimator, vectorizer, 'simple_lr')\n",
        "new_lr, new_vectorizer = load_model('simple_lr')"
      ],
      "execution_count": null,
      "outputs": []
    },
    {
      "cell_type": "code",
      "metadata": {
        "id": "MuDA05OdZd3V"
      },
      "source": [
        "save_model(svm_estimator, vectorizer, 'simple_svm')"
      ],
      "execution_count": null,
      "outputs": []
    }
  ]
}