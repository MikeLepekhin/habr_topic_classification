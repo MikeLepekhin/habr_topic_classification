{
 "cells": [
  {
   "cell_type": "markdown",
   "metadata": {},
   "source": [
    "Идея взята у https://www.kaggle.com/sudhirnl7/logistic-regression-tfidf"
   ]
  },
  {
   "cell_type": "code",
   "execution_count": 1,
   "metadata": {},
   "outputs": [
    {
     "name": "stderr",
     "output_type": "stream",
     "text": [
      "[nltk_data] Downloading package stopwords to /home/mike/nltk_data...\n",
      "[nltk_data]   Package stopwords is already up-to-date!\n"
     ]
    }
   ],
   "source": [
    "import nltk\n",
    "nltk.download('stopwords')\n",
    "import numpy as np\n",
    "import pandas as pd\n",
    "\n",
    "from scipy import sparse"
   ]
  },
  {
   "cell_type": "code",
   "execution_count": 2,
   "metadata": {},
   "outputs": [
    {
     "data": {
      "text/html": [
       "<div>\n",
       "<style scoped>\n",
       "    .dataframe tbody tr th:only-of-type {\n",
       "        vertical-align: middle;\n",
       "    }\n",
       "\n",
       "    .dataframe tbody tr th {\n",
       "        vertical-align: top;\n",
       "    }\n",
       "\n",
       "    .dataframe thead th {\n",
       "        text-align: right;\n",
       "    }\n",
       "</style>\n",
       "<table border=\"1\" class=\"dataframe\">\n",
       "  <thead>\n",
       "    <tr style=\"text-align: right;\">\n",
       "      <th></th>\n",
       "      <th>Unnamed: 0</th>\n",
       "      <th>hubs</th>\n",
       "      <th>likes</th>\n",
       "      <th>text</th>\n",
       "      <th>title</th>\n",
       "    </tr>\n",
       "  </thead>\n",
       "  <tbody>\n",
       "    <tr>\n",
       "      <th>0</th>\n",
       "      <td>599</td>\n",
       "      <td>программирование</td>\n",
       "      <td>+6</td>\n",
       "      <td>\\nЗдравствуйте, по материалам опубликованного ...</td>\n",
       "      <td>Цикл статей «Изучаем VoIP-движок Mediastreamer...</td>\n",
       "    </tr>\n",
       "    <tr>\n",
       "      <th>1</th>\n",
       "      <td>752</td>\n",
       "      <td>гаджеты|будущее здесь</td>\n",
       "      <td>+3</td>\n",
       "      <td>В школе я «изучал» французский язык. Не зря я ...</td>\n",
       "      <td>Волшебный английский</td>\n",
       "    </tr>\n",
       "    <tr>\n",
       "      <th>2</th>\n",
       "      <td>2016</td>\n",
       "      <td>программирование</td>\n",
       "      <td>+23</td>\n",
       "      <td>Введение\\nВ последние несколько лет голосовые ...</td>\n",
       "      <td>Технологии ASR и TTS для прикладного программи...</td>\n",
       "    </tr>\n",
       "    <tr>\n",
       "      <th>3</th>\n",
       "      <td>1001</td>\n",
       "      <td>научно-популярное</td>\n",
       "      <td>+5</td>\n",
       "      <td>\\n\\nУчёные из Института материаловедения, подр...</td>\n",
       "      <td>Учёные объявили о появлении замены дорогого ма...</td>\n",
       "    </tr>\n",
       "    <tr>\n",
       "      <th>4</th>\n",
       "      <td>2514</td>\n",
       "      <td>программирование</td>\n",
       "      <td>+23</td>\n",
       "      <td>Было ли вам когда-либо интересно написать свою...</td>\n",
       "      <td>Разработка шахматной программы</td>\n",
       "    </tr>\n",
       "  </tbody>\n",
       "</table>\n",
       "</div>"
      ],
      "text/plain": [
       "   Unnamed: 0                   hubs likes  \\\n",
       "0         599       программирование    +6   \n",
       "1         752  гаджеты|будущее здесь    +3   \n",
       "2        2016       программирование   +23   \n",
       "3        1001      научно-популярное    +5   \n",
       "4        2514       программирование   +23   \n",
       "\n",
       "                                                text  \\\n",
       "0  \\nЗдравствуйте, по материалам опубликованного ...   \n",
       "1  В школе я «изучал» французский язык. Не зря я ...   \n",
       "2  Введение\\nВ последние несколько лет голосовые ...   \n",
       "3  \\n\\nУчёные из Института материаловедения, подр...   \n",
       "4  Было ли вам когда-либо интересно написать свою...   \n",
       "\n",
       "                                               title  \n",
       "0  Цикл статей «Изучаем VoIP-движок Mediastreamer...  \n",
       "1                               Волшебный английский  \n",
       "2  Технологии ASR и TTS для прикладного программи...  \n",
       "3  Учёные объявили о появлении замены дорогого ма...  \n",
       "4                     Разработка шахматной программы  "
      ]
     },
     "execution_count": 2,
     "metadata": {},
     "output_type": "execute_result"
    }
   ],
   "source": [
    "raw_train = pd.read_csv('train_df.csv')\n",
    "raw_test = pd.read_csv('test_df.csv')\n",
    "raw_train.head()"
   ]
  },
  {
   "cell_type": "code",
   "execution_count": 3,
   "metadata": {},
   "outputs": [],
   "source": [
    "import nltk\n",
    "\n",
    "from nltk import sent_tokenize, word_tokenize, regexp_tokenize\n",
    "from nltk.corpus import stopwords"
   ]
  },
  {
   "cell_type": "code",
   "execution_count": 4,
   "metadata": {},
   "outputs": [],
   "source": [
    "def make_label_matrix(label_list):\n",
    "    id_to_label = ['научно-популярное', 'гаджеты', 'программирование', \n",
    "                   'космонавтика', 'информационная безопасность', 'it-компании',\n",
    "                   'компьютерное железо', 'разработка веб-сайтов', \n",
    "                   'diy или сделай сам', 'будущее здесь']\n",
    "    label_to_id = {label: label_id for label_id, label in enumerate(id_to_label)}\n",
    "    result_matr = np.zeros((len(label_list), len(id_to_label))).astype(int)\n",
    "    \n",
    "    for i in range(len(label_list)):\n",
    "        cur_labels = str(label_list[i]).split('|')\n",
    "        for label in cur_labels:\n",
    "            if str(label) == 'nan':\n",
    "                continue\n",
    "            result_matr[i][label_to_id[label]] = 1\n",
    "    return result_matr"
   ]
  },
  {
   "cell_type": "code",
   "execution_count": 5,
   "metadata": {},
   "outputs": [
    {
     "name": "stdout",
     "output_type": "stream",
     "text": [
      "[[0 0 1 0 0 0 0 0 0 0]\n",
      " [0 1 0 0 0 0 0 0 0 1]\n",
      " [0 0 1 0 0 0 0 0 0 0]\n",
      " [1 0 0 0 0 0 0 0 0 0]\n",
      " [0 0 1 0 0 0 0 0 0 0]\n",
      " [1 0 0 0 0 0 0 0 0 0]\n",
      " [0 0 0 0 1 0 0 0 0 0]\n",
      " [0 0 0 0 0 0 0 1 0 0]\n",
      " [1 0 0 0 0 0 0 0 0 0]\n",
      " [0 0 0 0 0 1 0 0 0 0]]\n"
     ]
    }
   ],
   "source": [
    "train_clean_text = [text.replace('\\n', ' ') for text in raw_train.text.values]\n",
    "train_clean_label = make_label_matrix(raw_train.hubs.values)\n",
    "print(train_clean_label[:10])"
   ]
  },
  {
   "cell_type": "code",
   "execution_count": 6,
   "metadata": {},
   "outputs": [
    {
     "name": "stdout",
     "output_type": "stream",
     "text": [
      "[[1 0 0 1 0 0 0 0 0 0]\n",
      " [0 1 0 0 0 0 1 0 0 0]\n",
      " [1 0 0 0 0 0 0 0 0 1]\n",
      " [1 0 0 0 0 0 0 0 0 0]\n",
      " [1 0 0 1 0 0 0 0 0 0]\n",
      " [1 0 0 1 0 0 0 0 0 0]\n",
      " [0 0 0 0 0 1 0 0 0 0]\n",
      " [0 0 0 0 0 0 0 1 0 0]\n",
      " [0 0 1 0 0 1 0 0 0 0]\n",
      " [1 0 0 0 0 0 0 0 0 1]]\n"
     ]
    }
   ],
   "source": [
    "test_clean_text = [text.replace('\\n', ' ') for text in raw_test.text.values]\n",
    "test_clean_label = make_label_matrix(raw_test.hubs.values)\n",
    "print(test_clean_label[:10])"
   ]
  },
  {
   "cell_type": "code",
   "execution_count": 7,
   "metadata": {},
   "outputs": [],
   "source": [
    "from sklearn.feature_extraction.text import CountVectorizer, TfidfVectorizer"
   ]
  },
  {
   "cell_type": "code",
   "execution_count": 8,
   "metadata": {},
   "outputs": [],
   "source": [
    "class BigVectorizer:\n",
    "    def __init__(self, max_word_features=2048, max_char_features=2048):\n",
    "        self.vect_word = TfidfVectorizer(\n",
    "            max_features=max_word_features, lowercase=True, analyzer='word',\n",
    "            stop_words=stopwords.words('russian'), ngram_range=(1,3),dtype=np.float32\n",
    "        )\n",
    "        self.vect_char = TfidfVectorizer(\n",
    "            max_features=max_char_features, lowercase=True, analyzer='char',\n",
    "            stop_words=stopwords.words('russian'), ngram_range=(3,6),dtype=np.float32\n",
    "        )\n",
    "\n",
    "    def fit_transform(self, X):\n",
    "        vect_word = self.vect_word.fit_transform(X)\n",
    "        vect_char = self.vect_char.fit_transform(X)\n",
    "        return sparse.hstack([vect_word, vect_char])\n",
    "       \n",
    "    def transform(self, X):\n",
    "        vect_word = self.vect_word.transform(X)\n",
    "        vect_char = self.vect_char.transform(X)\n",
    "        return sparse.hstack([vect_word, vect_char])"
   ]
  },
  {
   "cell_type": "code",
   "execution_count": 9,
   "metadata": {},
   "outputs": [],
   "source": [
    "vectorizer = BigVectorizer()\n",
    "train_vect = vectorizer.fit_transform(train_clean_text)"
   ]
  },
  {
   "cell_type": "code",
   "execution_count": 10,
   "metadata": {},
   "outputs": [],
   "source": [
    "test_vect = vectorizer.transform(test_clean_text)"
   ]
  },
  {
   "cell_type": "code",
   "execution_count": 14,
   "metadata": {},
   "outputs": [],
   "source": [
    "import pickle\n",
    "\n",
    "pickle.dump(train_vect, open('train_vect.pcl', 'wb'))\n",
    "pickle.dump(test_vect, open('test_vect.pcl', 'wb'))"
   ]
  },
  {
   "cell_type": "code",
   "execution_count": 26,
   "metadata": {},
   "outputs": [],
   "source": [
    "from sklearn.linear_model import LogisticRegression\n",
    "from sklearn.metrics import accuracy_score, recall_score, f1_score\n",
    "from sklearn.multiclass import OneVsRestClassifier"
   ]
  },
  {
   "cell_type": "code",
   "execution_count": 16,
   "metadata": {},
   "outputs": [],
   "source": [
    "def evaluate(predictor, X_train, X_test, y_train, y_test):\n",
    "    predicted_train = predictor.predict(X_train)\n",
    "    predicted_test = predictor.predict(X_test)\n",
    "    \n",
    "    print('accuracy train', accuracy_score(predicted_train, y_train))\n",
    "    print('accuracy test', accuracy_score(predicted_test, y_test))"
   ]
  },
  {
   "cell_type": "code",
   "execution_count": 17,
   "metadata": {},
   "outputs": [],
   "source": [
    "from sklearn.model_selection import GridSearchCV"
   ]
  },
  {
   "cell_type": "code",
   "execution_count": 27,
   "metadata": {},
   "outputs": [],
   "source": [
    "lr_estimator = OneVsRestClassifier(LogisticRegression(random_state=42, C=3, multi_class='ovr'))"
   ]
  },
  {
   "cell_type": "code",
   "execution_count": 28,
   "metadata": {},
   "outputs": [
    {
     "data": {
      "text/plain": [
       "OneVsRestClassifier(estimator=LogisticRegression(C=3, class_weight=None,\n",
       "                                                 dual=False, fit_intercept=True,\n",
       "                                                 intercept_scaling=1,\n",
       "                                                 l1_ratio=None, max_iter=100,\n",
       "                                                 multi_class='ovr', n_jobs=None,\n",
       "                                                 penalty='l2', random_state=42,\n",
       "                                                 solver='lbfgs', tol=0.0001,\n",
       "                                                 verbose=0, warm_start=False),\n",
       "                    n_jobs=None)"
      ]
     },
     "execution_count": 28,
     "metadata": {},
     "output_type": "execute_result"
    }
   ],
   "source": [
    "lr_estimator.fit(train_vect, train_clean_label)"
   ]
  },
  {
   "cell_type": "code",
   "execution_count": 29,
   "metadata": {},
   "outputs": [
    {
     "name": "stdout",
     "output_type": "stream",
     "text": [
      "accuracy train 0.7075625680087051\n",
      "accuracy test 0.6800870511425462\n"
     ]
    }
   ],
   "source": [
    "evaluate(lr_estimator, train_vect, test_vect, train_clean_label, test_clean_label)"
   ]
  },
  {
   "cell_type": "code",
   "execution_count": null,
   "metadata": {},
   "outputs": [],
   "source": [
    "from sklearn.svm import SVC\n",
    "\n",
    "svm_estimator = OneVsRestClassifier(SVC())\n",
    "svm_estimator.fit(train_vect, train_clean_label)\n",
    "evaluate(svm_estimator, train_vect, test_vect, train_clean_label, test_clean_label)"
   ]
  },
  {
   "cell_type": "code",
   "execution_count": null,
   "metadata": {},
   "outputs": [],
   "source": [
    "import pickle\n",
    "from os.path import join as pathjoin\n",
    "\n",
    "def save_model(predictor, vectorizer, model_dir):\n",
    "    !mkdir {model_dir}\n",
    "    with open(pathjoin(model_dir, 'predictor'), 'wb') as fout:\n",
    "        fout.write(pickle.dumps(predictor))\n",
    "    with open(pathjoin(model_dir, 'vectorizer'), 'wb') as fout:\n",
    "        fout.write(pickle.dumps(vectorizer))\n",
    "        \n",
    "def load_model(model_dir):\n",
    "    return pickle.loads(open(pathjoin(model_dir, 'predictor'), 'rb').read()),\\\n",
    "           pickle.loads(open(pathjoin(model_dir, 'vectorizer'), 'rb').read())"
   ]
  },
  {
   "cell_type": "code",
   "execution_count": null,
   "metadata": {},
   "outputs": [],
   "source": [
    "save_model(lr_estimator, vectorizer, 'simple_lr')\n",
    "new_lr, new_vectorizer = load_model('simple_lr')"
   ]
  },
  {
   "cell_type": "code",
   "execution_count": null,
   "metadata": {},
   "outputs": [],
   "source": [
    "save_model(svm_estimator, vectorizer, 'simple_svm')"
   ]
  },
  {
   "cell_type": "code",
   "execution_count": null,
   "metadata": {},
   "outputs": [],
   "source": []
  }
 ],
 "metadata": {
  "kernelspec": {
   "display_name": "Python 3",
   "language": "python",
   "name": "python3"
  },
  "language_info": {
   "codemirror_mode": {
    "name": "ipython",
    "version": 3
   },
   "file_extension": ".py",
   "mimetype": "text/x-python",
   "name": "python",
   "nbconvert_exporter": "python",
   "pygments_lexer": "ipython3",
   "version": "3.7.6"
  }
 },
 "nbformat": 4,
 "nbformat_minor": 4
}
