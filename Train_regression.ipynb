{
  "nbformat": 4,
  "nbformat_minor": 0,
  "metadata": {
    "kernelspec": {
      "display_name": "Python (cv-yandex)",
      "language": "python",
      "name": "cv_yandex"
    },
    "language_info": {
      "codemirror_mode": {
        "name": "ipython",
        "version": 3
      },
      "file_extension": ".py",
      "mimetype": "text/x-python",
      "name": "python",
      "nbconvert_exporter": "python",
      "pygments_lexer": "ipython3",
      "version": "3.8.5"
    },
    "colab": {
      "name": "Train regression.ipynb",
      "provenance": [],
      "collapsed_sections": []
    },
    "widgets": {
      "application/vnd.jupyter.widget-state+json": {
        "a18092df686c4989a5362e1849da70c1": {
          "model_module": "@jupyter-widgets/controls",
          "model_name": "HBoxModel",
          "state": {
            "_view_name": "HBoxView",
            "_dom_classes": [],
            "_model_name": "HBoxModel",
            "_view_module": "@jupyter-widgets/controls",
            "_model_module_version": "1.5.0",
            "_view_count": null,
            "_view_module_version": "1.5.0",
            "box_style": "",
            "layout": "IPY_MODEL_f29899af05a8448299a90c333a1eb5ff",
            "_model_module": "@jupyter-widgets/controls",
            "children": [
              "IPY_MODEL_959758b519e4428e937d497fef725466",
              "IPY_MODEL_b5722282e4ae4973b21db54f4b3ed5b9"
            ]
          }
        },
        "f29899af05a8448299a90c333a1eb5ff": {
          "model_module": "@jupyter-widgets/base",
          "model_name": "LayoutModel",
          "state": {
            "_view_name": "LayoutView",
            "grid_template_rows": null,
            "right": null,
            "justify_content": null,
            "_view_module": "@jupyter-widgets/base",
            "overflow": null,
            "_model_module_version": "1.2.0",
            "_view_count": null,
            "flex_flow": null,
            "width": null,
            "min_width": null,
            "border": null,
            "align_items": null,
            "bottom": null,
            "_model_module": "@jupyter-widgets/base",
            "top": null,
            "grid_column": null,
            "overflow_y": null,
            "overflow_x": null,
            "grid_auto_flow": null,
            "grid_area": null,
            "grid_template_columns": null,
            "flex": null,
            "_model_name": "LayoutModel",
            "justify_items": null,
            "grid_row": null,
            "max_height": null,
            "align_content": null,
            "visibility": null,
            "align_self": null,
            "height": null,
            "min_height": null,
            "padding": null,
            "grid_auto_rows": null,
            "grid_gap": null,
            "max_width": null,
            "order": null,
            "_view_module_version": "1.2.0",
            "grid_template_areas": null,
            "object_position": null,
            "object_fit": null,
            "grid_auto_columns": null,
            "margin": null,
            "display": null,
            "left": null
          }
        },
        "959758b519e4428e937d497fef725466": {
          "model_module": "@jupyter-widgets/controls",
          "model_name": "FloatProgressModel",
          "state": {
            "_view_name": "ProgressView",
            "style": "IPY_MODEL_077c65b08dbf4829a3682f97d95fd25c",
            "_dom_classes": [],
            "description": "100%",
            "_model_name": "FloatProgressModel",
            "bar_style": "success",
            "max": 8109,
            "_view_module": "@jupyter-widgets/controls",
            "_model_module_version": "1.5.0",
            "value": 8109,
            "_view_count": null,
            "_view_module_version": "1.5.0",
            "orientation": "horizontal",
            "min": 0,
            "description_tooltip": null,
            "_model_module": "@jupyter-widgets/controls",
            "layout": "IPY_MODEL_18accfaeb7534f3eb08ed05b600d2910"
          }
        },
        "b5722282e4ae4973b21db54f4b3ed5b9": {
          "model_module": "@jupyter-widgets/controls",
          "model_name": "HTMLModel",
          "state": {
            "_view_name": "HTMLView",
            "style": "IPY_MODEL_2f4fa6ce73854a668c003e68e3af1786",
            "_dom_classes": [],
            "description": "",
            "_model_name": "HTMLModel",
            "placeholder": "​",
            "_view_module": "@jupyter-widgets/controls",
            "_model_module_version": "1.5.0",
            "value": " 8109/8109 [00:00&lt;00:00, 8983.98it/s]",
            "_view_count": null,
            "_view_module_version": "1.5.0",
            "description_tooltip": null,
            "_model_module": "@jupyter-widgets/controls",
            "layout": "IPY_MODEL_52ef1e29ca354ebe9431c3c1d5ada17b"
          }
        },
        "077c65b08dbf4829a3682f97d95fd25c": {
          "model_module": "@jupyter-widgets/controls",
          "model_name": "ProgressStyleModel",
          "state": {
            "_view_name": "StyleView",
            "_model_name": "ProgressStyleModel",
            "description_width": "initial",
            "_view_module": "@jupyter-widgets/base",
            "_model_module_version": "1.5.0",
            "_view_count": null,
            "_view_module_version": "1.2.0",
            "bar_color": null,
            "_model_module": "@jupyter-widgets/controls"
          }
        },
        "18accfaeb7534f3eb08ed05b600d2910": {
          "model_module": "@jupyter-widgets/base",
          "model_name": "LayoutModel",
          "state": {
            "_view_name": "LayoutView",
            "grid_template_rows": null,
            "right": null,
            "justify_content": null,
            "_view_module": "@jupyter-widgets/base",
            "overflow": null,
            "_model_module_version": "1.2.0",
            "_view_count": null,
            "flex_flow": null,
            "width": null,
            "min_width": null,
            "border": null,
            "align_items": null,
            "bottom": null,
            "_model_module": "@jupyter-widgets/base",
            "top": null,
            "grid_column": null,
            "overflow_y": null,
            "overflow_x": null,
            "grid_auto_flow": null,
            "grid_area": null,
            "grid_template_columns": null,
            "flex": null,
            "_model_name": "LayoutModel",
            "justify_items": null,
            "grid_row": null,
            "max_height": null,
            "align_content": null,
            "visibility": null,
            "align_self": null,
            "height": null,
            "min_height": null,
            "padding": null,
            "grid_auto_rows": null,
            "grid_gap": null,
            "max_width": null,
            "order": null,
            "_view_module_version": "1.2.0",
            "grid_template_areas": null,
            "object_position": null,
            "object_fit": null,
            "grid_auto_columns": null,
            "margin": null,
            "display": null,
            "left": null
          }
        },
        "2f4fa6ce73854a668c003e68e3af1786": {
          "model_module": "@jupyter-widgets/controls",
          "model_name": "DescriptionStyleModel",
          "state": {
            "_view_name": "StyleView",
            "_model_name": "DescriptionStyleModel",
            "description_width": "",
            "_view_module": "@jupyter-widgets/base",
            "_model_module_version": "1.5.0",
            "_view_count": null,
            "_view_module_version": "1.2.0",
            "_model_module": "@jupyter-widgets/controls"
          }
        },
        "52ef1e29ca354ebe9431c3c1d5ada17b": {
          "model_module": "@jupyter-widgets/base",
          "model_name": "LayoutModel",
          "state": {
            "_view_name": "LayoutView",
            "grid_template_rows": null,
            "right": null,
            "justify_content": null,
            "_view_module": "@jupyter-widgets/base",
            "overflow": null,
            "_model_module_version": "1.2.0",
            "_view_count": null,
            "flex_flow": null,
            "width": null,
            "min_width": null,
            "border": null,
            "align_items": null,
            "bottom": null,
            "_model_module": "@jupyter-widgets/base",
            "top": null,
            "grid_column": null,
            "overflow_y": null,
            "overflow_x": null,
            "grid_auto_flow": null,
            "grid_area": null,
            "grid_template_columns": null,
            "flex": null,
            "_model_name": "LayoutModel",
            "justify_items": null,
            "grid_row": null,
            "max_height": null,
            "align_content": null,
            "visibility": null,
            "align_self": null,
            "height": null,
            "min_height": null,
            "padding": null,
            "grid_auto_rows": null,
            "grid_gap": null,
            "max_width": null,
            "order": null,
            "_view_module_version": "1.2.0",
            "grid_template_areas": null,
            "object_position": null,
            "object_fit": null,
            "grid_auto_columns": null,
            "margin": null,
            "display": null,
            "left": null
          }
        }
      }
    }
  },
  "cells": [
    {
      "cell_type": "code",
      "metadata": {
        "colab": {
          "base_uri": "https://localhost:8080/"
        },
        "id": "SDga37OrUUkf",
        "outputId": "c805b2e4-3f36-4d6f-f86c-89558834e70b"
      },
      "source": [
        "import nltk\n",
        "nltk.download('stopwords')\n",
        "\n",
        "import os\n",
        "import pickle\n",
        "\n",
        "from nltk import sent_tokenize, word_tokenize, regexp_tokenize\n",
        "from nltk.corpus import stopwords\n",
        "from tqdm.notebook import tqdm\n",
        "\n",
        "from sklearn.model_selection import train_test_split\n",
        "from sklearn.feature_extraction.text import TfidfVectorizer\n",
        "from sklearn.linear_model import LinearRegression\n",
        "from sklearn.metrics import  mean_squared_error, mean_absolute_error\n",
        "\n",
        "import numpy as np"
      ],
      "execution_count": 137,
      "outputs": [
        {
          "output_type": "stream",
          "text": [
            "[nltk_data] Downloading package stopwords to /root/nltk_data...\n",
            "[nltk_data]   Package stopwords is already up-to-date!\n"
          ],
          "name": "stdout"
        }
      ]
    },
    {
      "cell_type": "code",
      "metadata": {
        "colab": {
          "base_uri": "https://localhost:8080/",
          "height": 66,
          "referenced_widgets": [
            "a18092df686c4989a5362e1849da70c1",
            "f29899af05a8448299a90c333a1eb5ff",
            "959758b519e4428e937d497fef725466",
            "b5722282e4ae4973b21db54f4b3ed5b9",
            "077c65b08dbf4829a3682f97d95fd25c",
            "18accfaeb7534f3eb08ed05b600d2910",
            "2f4fa6ce73854a668c003e68e3af1786",
            "52ef1e29ca354ebe9431c3c1d5ada17b"
          ]
        },
        "id": "NLwsLGFWUUkk",
        "outputId": "a19a2c07-dd52-4e05-b78a-97b77be6c2cb"
      },
      "source": [
        "texts = []\n",
        "likes = []\n",
        "for filename in tqdm(os.listdir('clean_files')):\n",
        "    one_file = pickle.load(open(f'clean_files/{filename}', 'rb'))\n",
        "    like = (-1 * int(one_file['likes'][1:])) if one_file['likes'][0] == '–' else int(one_file['likes'])\n",
        "    texts.append({})\n",
        "    texts[-1]['text'] = one_file['text']\n",
        "    texts[-1]['hubs'] = [i for i in one_file['hubs'].lower().strip(',').split() if i != '']\n",
        "    texts[-1]['file'] = filename\n",
        "    likes.append(like)"
      ],
      "execution_count": 138,
      "outputs": [
        {
          "output_type": "display_data",
          "data": {
            "application/vnd.jupyter.widget-view+json": {
              "model_id": "a18092df686c4989a5362e1849da70c1",
              "version_minor": 0,
              "version_major": 2
            },
            "text/plain": [
              "HBox(children=(FloatProgress(value=0.0, max=8109.0), HTML(value='')))"
            ]
          },
          "metadata": {
            "tags": []
          }
        },
        {
          "output_type": "stream",
          "text": [
            "\n"
          ],
          "name": "stdout"
        }
      ]
    },
    {
      "cell_type": "code",
      "metadata": {
        "colab": {
          "base_uri": "https://localhost:8080/"
        },
        "id": "axiOjAgdN5zK",
        "outputId": "f6041e77-0cac-4e82-97ac-d8b5c02a4527"
      },
      "source": [
        "print(one_file.keys())"
      ],
      "execution_count": 139,
      "outputs": [
        {
          "output_type": "stream",
          "text": [
            "dict_keys(['id', 'status', 'title', 'text', 'time', 'hubs', 'likes'])\n"
          ],
          "name": "stdout"
        }
      ]
    },
    {
      "cell_type": "code",
      "metadata": {
        "id": "5CHIGBssUUkm"
      },
      "source": [
        "X_train, X_test, y_train, y_test = train_test_split(texts, likes, test_size=0.33, random_state=42)"
      ],
      "execution_count": 140,
      "outputs": []
    },
    {
      "cell_type": "code",
      "metadata": {
        "id": "cvH7l73OUUkm"
      },
      "source": [
        "vectorizer = TfidfVectorizer(\n",
        "    max_features=2048, lowercase=True, analyzer='word',\n",
        "    stop_words=stopwords.words('russian'), ngram_range=(1,3),dtype=np.float32\n",
        ")\n",
        "train_vects = vectorizer.fit_transform([text['text'] for text in X_train])\n",
        "test_vects = vectorizer.transform([text['text'] for text in X_test])"
      ],
      "execution_count": 141,
      "outputs": []
    },
    {
      "cell_type": "code",
      "metadata": {
        "id": "qtk2ZIQjUUkn"
      },
      "source": [
        "regressor = LinearRegression().fit(train_vects, y_train)"
      ],
      "execution_count": 142,
      "outputs": []
    },
    {
      "cell_type": "code",
      "metadata": {
        "id": "kR5LXLM7UUkn"
      },
      "source": [
        "def print_examples(X_test, y_test, predicted_test):\n",
        "    n = 5\n",
        "    max_scores, min_scores = [(-999999, -1)] * n, [(999999, -1)] * n\n",
        "    for i in range (len(X_test)):\n",
        "        score = (y_test[i] - predicted_test[i]) ** 2\n",
        "        for j in range(n):\n",
        "            if score > max_scores[j][0]:\n",
        "                for k in range(n - 1, j, -1):\n",
        "                    max_scores[k] = max_scores[k - 1]\n",
        "                max_scores[j] = (score, i)\n",
        "                break\n",
        "        for j in range(n):\n",
        "            if score < min_scores[j][0]:\n",
        "                for k in range(n - 1, j, -1):\n",
        "                    min_scores[k] = min_scores[k - 1]\n",
        "                min_scores[j] = (score, i)\n",
        "                break\n",
        "\n",
        "    print()\n",
        "    print('Best:')\n",
        "    for ex in min_scores:\n",
        "        print('Squere error: {:10.2f}'.format(ex[0]))\n",
        "        print('Text: ' + X_test[ex[1]]['file'])\n",
        "        print('Hubs: ' + ', '.join(X_test[ex[1]]['hubs']))\n",
        "        print('predicted: ' + str(round(predicted_test[ex[1]])) + ', real: ' + str(y_test[ex[1]]))\n",
        "        print()\n",
        "    print('---------------------------------')\n",
        "    print('Worse:')\n",
        "    for ex in max_scores:\n",
        "        print('Squere error: {:6.2f}'.format(ex[0]))\n",
        "        print('Text: ' + X_test[ex[1]]['file'])\n",
        "        print('Hubs: ' + ', '.join(X_test[ex[1]]['hubs']))\n",
        "        print('predicted: ' + str(round(predicted_test[ex[1]])) + ', real: ' + str(y_test[ex[1]]))\n",
        "        print()\n",
        "\n",
        "\n",
        "def evaluate(predictor, train_vects, test_vects, X_train, X_test, y_train, y_test):\n",
        "    predicted_train = predictor.predict(train_vects)\n",
        "    predicted_test = predictor.predict(test_vects)    \n",
        "    \n",
        "    print('MSE train', mean_squared_error(predicted_train, y_train))\n",
        "    print('MAE train', mean_absolute_error(predicted_train, y_train))\n",
        "    print()\n",
        "    print('MSE test', mean_squared_error(predicted_test, y_test))\n",
        "    print('MAE test', mean_absolute_error(predicted_test, y_test))\n",
        "\n",
        "    print_examples(X_test, y_test, predicted_test)"
      ],
      "execution_count": 143,
      "outputs": []
    },
    {
      "cell_type": "code",
      "metadata": {
        "colab": {
          "base_uri": "https://localhost:8080/"
        },
        "id": "m1SWKoiMUUkn",
        "outputId": "7383b2cd-53b8-4a98-85c9-134d9a3e2bba"
      },
      "source": [
        "evaluate(regressor, train_vects, test_vects, X_train, X_test, y_train, y_test)"
      ],
      "execution_count": 144,
      "outputs": [
        {
          "output_type": "stream",
          "text": [
            "MSE train 214.3008234895762\n",
            "MAE train 10.270459248573072\n",
            "\n",
            "MSE test 688.1320474256046\n",
            "MAE test 17.440299681480923\n",
            "\n",
            "Best:\n",
            "Squere error:       0.00\n",
            "Text: 295308.pkl\n",
            "Hubs: исследования, и, прогнозы, в, it\n",
            "predicted: 9, real: 9\n",
            "\n",
            "Squere error:       0.00\n",
            "Text: 349020.pkl\n",
            "Hubs: блог, компании, google, developers,, разработка, веб-сайтов,, монетизация, веб-сервисов\n",
            "predicted: 24, real: 24\n",
            "\n",
            "Squere error:       0.00\n",
            "Text: 516554.pkl\n",
            "Hubs: проектирование, и, рефакторинг,, управление, разработкой,, микросервисы\n",
            "predicted: 0, real: 0\n",
            "\n",
            "Squere error:       0.01\n",
            "Text: 408929.pkl\n",
            "Hubs: криптовалюты\n",
            "predicted: 14, real: 14\n",
            "\n",
            "Squere error:       0.01\n",
            "Text: 403889.pkl\n",
            "Hubs: блог, компании, medgadgets\n",
            "predicted: 12, real: 12\n",
            "\n",
            "---------------------------------\n",
            "Worse:\n",
            "Squere error: 169654.46\n",
            "Text: 505240.pkl\n",
            "Hubs: управление, персоналом,, карьера, в, it-индустрии,, it-компании\n",
            "predicted: 54, real: 466\n",
            "\n",
            "Squere error: 75558.21\n",
            "Text: 535626.pkl\n",
            "Hubs: научно-популярное,, биотехнологии\n",
            "predicted: 29, real: 304\n",
            "\n",
            "Squere error: 35420.71\n",
            "Text: 250887.pkl\n",
            "Hubs: open, source,, разработка, под, android\n",
            "predicted: 30, real: 218\n",
            "\n",
            "Squere error: 33902.98\n",
            "Text: 386123.pkl\n",
            "Hubs: блог, компании, lamptest,, гаджеты,, энергия, и, элементы, питания\n",
            "predicted: 29, real: 213\n",
            "\n",
            "Squere error: 30449.61\n",
            "Text: 535198.pkl\n",
            "Hubs: научно-популярное,, электроника, для, начинающих\n",
            "predicted: 17, real: 191\n",
            "\n"
          ],
          "name": "stdout"
        }
      ]
    },
    {
      "cell_type": "markdown",
      "metadata": {
        "id": "eZwRUci9eH1n"
      },
      "source": [
        "На примерах выше видно, что модель старается не давать слишком больших ответов и поэтому склонна к ошибкам, например,когда реальный ответ трёхзначен. Это логично, т.к. трёхначные выбросы встречаются редко:"
      ]
    },
    {
      "cell_type": "code",
      "metadata": {
        "colab": {
          "base_uri": "https://localhost:8080/"
        },
        "id": "UPdIe_zAerL5",
        "outputId": "ec1e9a42-b619-4dc7-e057-da958bff046d"
      },
      "source": [
        "print(len(y_train))\n",
        "print(len([i for i in y_train if i > 100]))"
      ],
      "execution_count": 145,
      "outputs": [
        {
          "output_type": "stream",
          "text": [
            "5433\n",
            "61\n"
          ],
          "name": "stdout"
        }
      ]
    },
    {
      "cell_type": "markdown",
      "metadata": {
        "id": "pVCCJfWagJMy"
      },
      "source": [
        "Т.к. выбросы дают самую большую ошибку, сделаем также эксперимент без них:"
      ]
    },
    {
      "cell_type": "code",
      "metadata": {
        "colab": {
          "base_uri": "https://localhost:8080/"
        },
        "id": "QV6_WDjjgkO7",
        "outputId": "0997a021-f811-443a-a50b-e5ead6143b93"
      },
      "source": [
        "print(len([i for i in y_train if i > 40]))\n",
        "print(len([i for i in y_train if i > 30]))"
      ],
      "execution_count": 146,
      "outputs": [
        {
          "output_type": "stream",
          "text": [
            "487\n",
            "822\n"
          ],
          "name": "stdout"
        }
      ]
    },
    {
      "cell_type": "code",
      "metadata": {
        "colab": {
          "base_uri": "https://localhost:8080/"
        },
        "id": "OwueN7_vgPqg",
        "outputId": "299827ef-693b-4d21-a14d-0cff39bee7c6"
      },
      "source": [
        "indicies = [i for i in range(len(y_test)) if 0 < y_test[i] < 40]\n",
        "X_test_ = [X_test[i] for i in indicies]\n",
        "y_test_ = [y_test[i] for i in indicies]\n",
        "test_vects_ = test_vects = vectorizer.transform([text['text'] for text in X_test_])\n",
        "\n",
        "evaluate(regressor, train_vects, test_vects_, X_train, X_test_, y_train, y_test_)"
      ],
      "execution_count": 147,
      "outputs": [
        {
          "output_type": "stream",
          "text": [
            "MSE train 214.3008234895762\n",
            "MAE train 10.270459248573072\n",
            "\n",
            "MSE test 326.47417955685313\n",
            "MAE test 14.06173214284955\n",
            "\n",
            "Best:\n",
            "Squere error:       0.00\n",
            "Text: 295308.pkl\n",
            "Hubs: исследования, и, прогнозы, в, it\n",
            "predicted: 9, real: 9\n",
            "\n",
            "Squere error:       0.00\n",
            "Text: 349020.pkl\n",
            "Hubs: блог, компании, google, developers,, разработка, веб-сайтов,, монетизация, веб-сервисов\n",
            "predicted: 24, real: 24\n",
            "\n",
            "Squere error:       0.01\n",
            "Text: 408929.pkl\n",
            "Hubs: криптовалюты\n",
            "predicted: 14, real: 14\n",
            "\n",
            "Squere error:       0.01\n",
            "Text: 403889.pkl\n",
            "Hubs: блог, компании, medgadgets\n",
            "predicted: 12, real: 12\n",
            "\n",
            "Squere error:       0.01\n",
            "Text: 287504.pkl\n",
            "Hubs: управление, медиа\n",
            "predicted: 6, real: 6\n",
            "\n",
            "---------------------------------\n",
            "Worse:\n",
            "Squere error: 25318.42\n",
            "Text: 408923.pkl\n",
            "Hubs: блог, компании, kingston, technology,, компьютерное, железо,, настольные, компьютеры,, diy, или, сделай, сам,, игры, и, игровые, приставки\n",
            "predicted: 162, real: 3\n",
            "\n",
            "Squere error: 5236.01\n",
            "Text: 354956.pkl\n",
            "Hubs: информационная, безопасность,, разработка, веб-сайтов,, open, source,, программирование,, сетевые, технологии\n",
            "predicted: -34, real: 38\n",
            "\n",
            "Squere error: 4252.54\n",
            "Text: 376635.pkl\n",
            "Hubs: работа, с, видео,, видеотехника\n",
            "predicted: 66, real: 1\n",
            "\n",
            "Squere error: 4072.30\n",
            "Text: 505616.pkl\n",
            "Hubs: python,, обработка, изображений,, машинное, обучение\n",
            "predicted: -55, real: 9\n",
            "\n",
            "Squere error: 4013.55\n",
            "Text: 539386.pkl\n",
            "Hubs: go\n",
            "predicted: 64, real: 1\n",
            "\n"
          ],
          "name": "stdout"
        }
      ]
    }
  ]
}