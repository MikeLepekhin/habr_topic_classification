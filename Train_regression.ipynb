{
  "nbformat": 4,
  "nbformat_minor": 0,
  "metadata": {
    "kernelspec": {
      "display_name": "Python (cv-yandex)",
      "language": "python",
      "name": "cv_yandex"
    },
    "language_info": {
      "codemirror_mode": {
        "name": "ipython",
        "version": 3
      },
      "file_extension": ".py",
      "mimetype": "text/x-python",
      "name": "python",
      "nbconvert_exporter": "python",
      "pygments_lexer": "ipython3",
      "version": "3.8.5"
    },
    "colab": {
      "name": "Train regression.ipynb",
      "provenance": [],
      "collapsed_sections": []
    },
    "widgets": {
      "application/vnd.jupyter.widget-state+json": {
        "5f2542305ced489db25563613319c543": {
          "model_module": "@jupyter-widgets/controls",
          "model_name": "HBoxModel",
          "state": {
            "_view_name": "HBoxView",
            "_dom_classes": [],
            "_model_name": "HBoxModel",
            "_view_module": "@jupyter-widgets/controls",
            "_model_module_version": "1.5.0",
            "_view_count": null,
            "_view_module_version": "1.5.0",
            "box_style": "",
            "layout": "IPY_MODEL_99b5f333dedf4eb0b6ab894f7b684c6e",
            "_model_module": "@jupyter-widgets/controls",
            "children": [
              "IPY_MODEL_789e59e0861243ce9bef76ad84a0c741",
              "IPY_MODEL_eca21ec3b2e74717890dbe97e84bc618"
            ]
          }
        },
        "99b5f333dedf4eb0b6ab894f7b684c6e": {
          "model_module": "@jupyter-widgets/base",
          "model_name": "LayoutModel",
          "state": {
            "_view_name": "LayoutView",
            "grid_template_rows": null,
            "right": null,
            "justify_content": null,
            "_view_module": "@jupyter-widgets/base",
            "overflow": null,
            "_model_module_version": "1.2.0",
            "_view_count": null,
            "flex_flow": null,
            "width": null,
            "min_width": null,
            "border": null,
            "align_items": null,
            "bottom": null,
            "_model_module": "@jupyter-widgets/base",
            "top": null,
            "grid_column": null,
            "overflow_y": null,
            "overflow_x": null,
            "grid_auto_flow": null,
            "grid_area": null,
            "grid_template_columns": null,
            "flex": null,
            "_model_name": "LayoutModel",
            "justify_items": null,
            "grid_row": null,
            "max_height": null,
            "align_content": null,
            "visibility": null,
            "align_self": null,
            "height": null,
            "min_height": null,
            "padding": null,
            "grid_auto_rows": null,
            "grid_gap": null,
            "max_width": null,
            "order": null,
            "_view_module_version": "1.2.0",
            "grid_template_areas": null,
            "object_position": null,
            "object_fit": null,
            "grid_auto_columns": null,
            "margin": null,
            "display": null,
            "left": null
          }
        },
        "789e59e0861243ce9bef76ad84a0c741": {
          "model_module": "@jupyter-widgets/controls",
          "model_name": "FloatProgressModel",
          "state": {
            "_view_name": "ProgressView",
            "style": "IPY_MODEL_a7ab21ec248d4ea892b724ac0b86b408",
            "_dom_classes": [],
            "description": "100%",
            "_model_name": "FloatProgressModel",
            "bar_style": "success",
            "max": 8109,
            "_view_module": "@jupyter-widgets/controls",
            "_model_module_version": "1.5.0",
            "value": 8109,
            "_view_count": null,
            "_view_module_version": "1.5.0",
            "orientation": "horizontal",
            "min": 0,
            "description_tooltip": null,
            "_model_module": "@jupyter-widgets/controls",
            "layout": "IPY_MODEL_ad1e2502445748f392445092fcfc9a6e"
          }
        },
        "eca21ec3b2e74717890dbe97e84bc618": {
          "model_module": "@jupyter-widgets/controls",
          "model_name": "HTMLModel",
          "state": {
            "_view_name": "HTMLView",
            "style": "IPY_MODEL_d724356c48e34f97b50fc081d49de3d5",
            "_dom_classes": [],
            "description": "",
            "_model_name": "HTMLModel",
            "placeholder": "​",
            "_view_module": "@jupyter-widgets/controls",
            "_model_module_version": "1.5.0",
            "value": " 8109/8109 [00:00&lt;00:00, 8668.05it/s]",
            "_view_count": null,
            "_view_module_version": "1.5.0",
            "description_tooltip": null,
            "_model_module": "@jupyter-widgets/controls",
            "layout": "IPY_MODEL_902e56cdd21444eda5154ab69b02d7f4"
          }
        },
        "a7ab21ec248d4ea892b724ac0b86b408": {
          "model_module": "@jupyter-widgets/controls",
          "model_name": "ProgressStyleModel",
          "state": {
            "_view_name": "StyleView",
            "_model_name": "ProgressStyleModel",
            "description_width": "initial",
            "_view_module": "@jupyter-widgets/base",
            "_model_module_version": "1.5.0",
            "_view_count": null,
            "_view_module_version": "1.2.0",
            "bar_color": null,
            "_model_module": "@jupyter-widgets/controls"
          }
        },
        "ad1e2502445748f392445092fcfc9a6e": {
          "model_module": "@jupyter-widgets/base",
          "model_name": "LayoutModel",
          "state": {
            "_view_name": "LayoutView",
            "grid_template_rows": null,
            "right": null,
            "justify_content": null,
            "_view_module": "@jupyter-widgets/base",
            "overflow": null,
            "_model_module_version": "1.2.0",
            "_view_count": null,
            "flex_flow": null,
            "width": null,
            "min_width": null,
            "border": null,
            "align_items": null,
            "bottom": null,
            "_model_module": "@jupyter-widgets/base",
            "top": null,
            "grid_column": null,
            "overflow_y": null,
            "overflow_x": null,
            "grid_auto_flow": null,
            "grid_area": null,
            "grid_template_columns": null,
            "flex": null,
            "_model_name": "LayoutModel",
            "justify_items": null,
            "grid_row": null,
            "max_height": null,
            "align_content": null,
            "visibility": null,
            "align_self": null,
            "height": null,
            "min_height": null,
            "padding": null,
            "grid_auto_rows": null,
            "grid_gap": null,
            "max_width": null,
            "order": null,
            "_view_module_version": "1.2.0",
            "grid_template_areas": null,
            "object_position": null,
            "object_fit": null,
            "grid_auto_columns": null,
            "margin": null,
            "display": null,
            "left": null
          }
        },
        "d724356c48e34f97b50fc081d49de3d5": {
          "model_module": "@jupyter-widgets/controls",
          "model_name": "DescriptionStyleModel",
          "state": {
            "_view_name": "StyleView",
            "_model_name": "DescriptionStyleModel",
            "description_width": "",
            "_view_module": "@jupyter-widgets/base",
            "_model_module_version": "1.5.0",
            "_view_count": null,
            "_view_module_version": "1.2.0",
            "_model_module": "@jupyter-widgets/controls"
          }
        },
        "902e56cdd21444eda5154ab69b02d7f4": {
          "model_module": "@jupyter-widgets/base",
          "model_name": "LayoutModel",
          "state": {
            "_view_name": "LayoutView",
            "grid_template_rows": null,
            "right": null,
            "justify_content": null,
            "_view_module": "@jupyter-widgets/base",
            "overflow": null,
            "_model_module_version": "1.2.0",
            "_view_count": null,
            "flex_flow": null,
            "width": null,
            "min_width": null,
            "border": null,
            "align_items": null,
            "bottom": null,
            "_model_module": "@jupyter-widgets/base",
            "top": null,
            "grid_column": null,
            "overflow_y": null,
            "overflow_x": null,
            "grid_auto_flow": null,
            "grid_area": null,
            "grid_template_columns": null,
            "flex": null,
            "_model_name": "LayoutModel",
            "justify_items": null,
            "grid_row": null,
            "max_height": null,
            "align_content": null,
            "visibility": null,
            "align_self": null,
            "height": null,
            "min_height": null,
            "padding": null,
            "grid_auto_rows": null,
            "grid_gap": null,
            "max_width": null,
            "order": null,
            "_view_module_version": "1.2.0",
            "grid_template_areas": null,
            "object_position": null,
            "object_fit": null,
            "grid_auto_columns": null,
            "margin": null,
            "display": null,
            "left": null
          }
        }
      }
    }
  },
  "cells": [
    {
      "cell_type": "code",
      "metadata": {
        "colab": {
          "base_uri": "https://localhost:8080/"
        },
        "id": "SDga37OrUUkf",
        "outputId": "90174f71-fef2-470e-e3d1-0c843396a89c"
      },
      "source": [
        "import nltk\n",
        "nltk.download('stopwords')\n",
        "\n",
        "import os\n",
        "import pickle\n",
        "\n",
        "from nltk import sent_tokenize, word_tokenize, regexp_tokenize\n",
        "from nltk.corpus import stopwords\n",
        "from tqdm.notebook import tqdm\n",
        "\n",
        "from sklearn.model_selection import train_test_split\n",
        "from sklearn.feature_extraction.text import TfidfVectorizer\n",
        "from sklearn.linear_model import LinearRegression\n",
        "from sklearn.metrics import  mean_squared_error, mean_absolute_error\n",
        "\n",
        "import numpy as np"
      ],
      "execution_count": 102,
      "outputs": [
        {
          "output_type": "stream",
          "text": [
            "[nltk_data] Downloading package stopwords to /root/nltk_data...\n",
            "[nltk_data]   Package stopwords is already up-to-date!\n"
          ],
          "name": "stdout"
        }
      ]
    },
    {
      "cell_type": "code",
      "metadata": {
        "colab": {
          "base_uri": "https://localhost:8080/",
          "height": 66,
          "referenced_widgets": [
            "5f2542305ced489db25563613319c543",
            "99b5f333dedf4eb0b6ab894f7b684c6e",
            "789e59e0861243ce9bef76ad84a0c741",
            "eca21ec3b2e74717890dbe97e84bc618",
            "a7ab21ec248d4ea892b724ac0b86b408",
            "ad1e2502445748f392445092fcfc9a6e",
            "d724356c48e34f97b50fc081d49de3d5",
            "902e56cdd21444eda5154ab69b02d7f4"
          ]
        },
        "id": "NLwsLGFWUUkk",
        "outputId": "4ccfaa15-70b2-4de9-9007-e9ae57aff644"
      },
      "source": [
        "texts = []\n",
        "likes = []\n",
        "for filename in tqdm(os.listdir('clean_files')):\n",
        "    one_file = pickle.load(open(f'clean_files/{filename}', 'rb'))\n",
        "    like = (-1 * int(one_file['likes'][1:])) if one_file['likes'][0] == '–' else int(one_file['likes'])\n",
        "    texts.append({})\n",
        "    texts[-1]['text'] = one_file['text']\n",
        "    texts[-1]['hubs'] = [i for i in one_file['hubs'].lower().strip(',').split() if i != '']\n",
        "    texts[-1]['file'] = filename\n",
        "    likes.append(like)"
      ],
      "execution_count": 103,
      "outputs": [
        {
          "output_type": "display_data",
          "data": {
            "application/vnd.jupyter.widget-view+json": {
              "model_id": "5f2542305ced489db25563613319c543",
              "version_minor": 0,
              "version_major": 2
            },
            "text/plain": [
              "HBox(children=(FloatProgress(value=0.0, max=8109.0), HTML(value='')))"
            ]
          },
          "metadata": {
            "tags": []
          }
        },
        {
          "output_type": "stream",
          "text": [
            "\n"
          ],
          "name": "stdout"
        }
      ]
    },
    {
      "cell_type": "code",
      "metadata": {
        "colab": {
          "base_uri": "https://localhost:8080/"
        },
        "id": "axiOjAgdN5zK",
        "outputId": "0b1bbca9-cea8-4f5c-82c2-85cc09e48c27"
      },
      "source": [
        "print(one_file.keys())"
      ],
      "execution_count": 104,
      "outputs": [
        {
          "output_type": "stream",
          "text": [
            "dict_keys(['id', 'status', 'title', 'text', 'time', 'hubs', 'likes'])\n"
          ],
          "name": "stdout"
        }
      ]
    },
    {
      "cell_type": "code",
      "metadata": {
        "id": "5CHIGBssUUkm"
      },
      "source": [
        "X_train, X_test, y_train, y_test = train_test_split(texts, likes, test_size=0.33, random_state=42)"
      ],
      "execution_count": 105,
      "outputs": []
    },
    {
      "cell_type": "code",
      "metadata": {
        "id": "cvH7l73OUUkm"
      },
      "source": [
        "vectorizer = TfidfVectorizer(\n",
        "    max_features=2048, lowercase=True, analyzer='word',\n",
        "    stop_words=stopwords.words('russian'), ngram_range=(1,3),dtype=np.float32\n",
        ")\n",
        "train_vects = vectorizer.fit_transform([text['text'] for text in X_train])\n",
        "test_vects = vectorizer.transform([text['text'] for text in X_test])"
      ],
      "execution_count": 106,
      "outputs": []
    },
    {
      "cell_type": "code",
      "metadata": {
        "id": "qtk2ZIQjUUkn"
      },
      "source": [
        "regressor = LinearRegression().fit(train_vects, y_train)"
      ],
      "execution_count": 107,
      "outputs": []
    },
    {
      "cell_type": "code",
      "metadata": {
        "id": "kR5LXLM7UUkn"
      },
      "source": [
        "def print_examples(X_test, y_test, predicted_test):\n",
        "    n = 5\n",
        "    max_scores, min_scores = [(-1, -1)] * n, [(999999, -1)] * n\n",
        "    for i in range (len(X_test)):\n",
        "        score = (y_test[i] - predicted_test[i]) ** 2\n",
        "        for j in range(n):\n",
        "            if score > max_scores[j][0]:\n",
        "                for k in range(n- 1, j, -1):\n",
        "                    max_scores[k] = max_scores[k - 1]\n",
        "                max_scores[j] = (score, i)\n",
        "                break\n",
        "        for j in range(n):\n",
        "            if score < min_scores[j][0]:\n",
        "                for k in range(n- 1, j, -1):\n",
        "                    min_scores[k] = min_scores[k - 1]\n",
        "                min_scores[j] = (score, i)\n",
        "                break\n",
        "\n",
        "    print()\n",
        "    print('Best:')\n",
        "    for ex in min_scores:\n",
        "        print('Squere error: {:10.2f}'.format(ex[0]))\n",
        "        print('Text: ' + X_test[ex[1]]['file'])\n",
        "        print('Hubs: ' + ', '.join(X_test[ex[1]]['hubs']))\n",
        "        print('predicted: ' + str(round(predicted_test[ex[1]])) + ', real: ' + str(y_test[ex[1]]))\n",
        "        print()\n",
        "    print('---------------------------------')\n",
        "    print('Worse:')\n",
        "    for ex in max_scores:\n",
        "        print('Squere error: {:6.2f}'.format(ex[0]))\n",
        "        print('Text: ' + X_test[ex[1]]['file'])\n",
        "        print('Hubs: ' + ', '.join(X_test[ex[1]]['hubs']))\n",
        "        print('predicted: ' + str(round(predicted_test[ex[1]])) + ', real: ' + str(y_test[ex[1]]))\n",
        "        print()\n",
        "\n",
        "\n",
        "def evaluate(predictor, train_vects, test_vects, X_train, X_test, y_train, y_test):\n",
        "    predicted_train = predictor.predict(train_vects)\n",
        "    predicted_test = predictor.predict(test_vects)    \n",
        "    \n",
        "    print('MSE train', mean_squared_error(predicted_train, y_train))\n",
        "    print('MAE train', mean_absolute_error(predicted_train, y_train))\n",
        "    print()\n",
        "    print('MSE test', mean_squared_error(predicted_test, y_test))\n",
        "    print('MAE test', mean_absolute_error(predicted_test, y_test))\n",
        "\n",
        "    print_examples(X_test, y_test, predicted_test)"
      ],
      "execution_count": 108,
      "outputs": []
    },
    {
      "cell_type": "code",
      "metadata": {
        "colab": {
          "base_uri": "https://localhost:8080/"
        },
        "id": "m1SWKoiMUUkn",
        "outputId": "8f8436d8-20b6-46d0-9120-a6b689242f83"
      },
      "source": [
        "evaluate(regressor, train_vects, test_vects, X_train, X_test, y_train, y_test)"
      ],
      "execution_count": 109,
      "outputs": [
        {
          "output_type": "stream",
          "text": [
            "MSE train 214.3008234895762\n",
            "MAE train 10.270459248573072\n",
            "\n",
            "MSE test 688.1320474256046\n",
            "MAE test 17.440299681480923\n",
            "\n",
            "Best:\n",
            "Squere error:       0.00\n",
            "Text: 295308.pkl\n",
            "Hubs: исследования, и, прогнозы, в, it\n",
            "predicted: 9, real: 9\n",
            "\n",
            "Squere error:       0.00\n",
            "Text: 349020.pkl\n",
            "Hubs: блог, компании, google, developers,, разработка, веб-сайтов,, монетизация, веб-сервисов\n",
            "predicted: 24, real: 24\n",
            "\n",
            "Squere error:       0.00\n",
            "Text: 516554.pkl\n",
            "Hubs: проектирование, и, рефакторинг,, управление, разработкой,, микросервисы\n",
            "predicted: 0, real: 0\n",
            "\n",
            "Squere error:       0.01\n",
            "Text: 408929.pkl\n",
            "Hubs: криптовалюты\n",
            "predicted: 14, real: 14\n",
            "\n",
            "Squere error:       0.01\n",
            "Text: 403889.pkl\n",
            "Hubs: блог, компании, medgadgets\n",
            "predicted: 12, real: 12\n",
            "\n",
            "---------------------------------\n",
            "Worse:\n",
            "Squere error: 169654.46\n",
            "Text: 505240.pkl\n",
            "Hubs: управление, персоналом,, карьера, в, it-индустрии,, it-компании\n",
            "predicted: 54, real: 466\n",
            "\n",
            "Squere error: 75558.21\n",
            "Text: 535626.pkl\n",
            "Hubs: научно-популярное,, биотехнологии\n",
            "predicted: 29, real: 304\n",
            "\n",
            "Squere error: 35420.71\n",
            "Text: 250887.pkl\n",
            "Hubs: open, source,, разработка, под, android\n",
            "predicted: 30, real: 218\n",
            "\n",
            "Squere error: 33902.98\n",
            "Text: 386123.pkl\n",
            "Hubs: блог, компании, lamptest,, гаджеты,, энергия, и, элементы, питания\n",
            "predicted: 29, real: 213\n",
            "\n",
            "Squere error: 30449.61\n",
            "Text: 535198.pkl\n",
            "Hubs: научно-популярное,, электроника, для, начинающих\n",
            "predicted: 17, real: 191\n",
            "\n"
          ],
          "name": "stdout"
        }
      ]
    },
    {
      "cell_type": "markdown",
      "metadata": {
        "id": "eZwRUci9eH1n"
      },
      "source": [
        "На примерах выше видно, что модель старается не давать слишком больших ответов и поэтому склонна к ошибкам, например,когда реальный ответ трёхзначен. Это логично, т.к. трёхначные выбросы встречаются редко:"
      ]
    },
    {
      "cell_type": "code",
      "metadata": {
        "colab": {
          "base_uri": "https://localhost:8080/"
        },
        "id": "UPdIe_zAerL5",
        "outputId": "16fede5d-fe72-4764-9ba2-ae12135a236f"
      },
      "source": [
        "print(len(y_train))\n",
        "print(len([i for i in y_train if i > 100]))"
      ],
      "execution_count": 110,
      "outputs": [
        {
          "output_type": "stream",
          "text": [
            "5433\n",
            "61\n"
          ],
          "name": "stdout"
        }
      ]
    }
  ]
}